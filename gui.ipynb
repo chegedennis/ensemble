{
 "cells": [
  {
   "cell_type": "markdown",
   "metadata": {},
   "source": [
    "below is the code to implement the GUI. The tkinter module is the most lightweight graphical user interface module found in python. The pillow module is for manipulation of the inputted images for recognition. "
   ]
  },
  {
   "cell_type": "code",
   "execution_count": 1,
   "metadata": {},
   "outputs": [],
   "source": [
    "from tkinter import * \n",
    "import tkinter as tk\n",
    "from PIL import Image, ImageGrab, ImageOps\n",
    "import numpy as np\n",
    "import joblib"
   ]
  },
  {
   "cell_type": "markdown",
   "metadata": {},
   "source": [
    "the saved model is now loaded for usage in the recognition process."
   ]
  },
  {
   "cell_type": "code",
   "execution_count": 2,
   "metadata": {},
   "outputs": [],
   "source": [
    "model = joblib.load('evc_model.gzip')"
   ]
  },
  {
   "cell_type": "code",
   "execution_count": 3,
   "metadata": {},
   "outputs": [],
   "source": [
    "#the image draw allows the user to draw the digit in the provided space.\n",
    "from PIL import Image, ImageDraw"
   ]
  },
  {
   "cell_type": "code",
   "execution_count": 5,
   "metadata": {},
   "outputs": [],
   "source": [
    "#define the color intensities to be used.\n",
    "white = (255, 255, 255)\n",
    "black = (0, 0, 0)\n",
    "window = Tk()\n",
    " \n",
    "window.title(\"Handwriting Recognizer\")\n",
    " \n",
    "window.geometry('500x500')\n",
    " \n",
    "lbl = Label(window, text=\"Write digits with your mouse in the gray square\",font=('Arial Bold',15))\n",
    " \n",
    "lbl.grid(column=3, row=0)\n",
    " \n",
    "canvas_width = 120\n",
    "canvas_height = 120\n",
    "image1 = Image.new(\"RGB\", (canvas_width, canvas_height),white)\n",
    "draw = ImageDraw.Draw(image1)\n",
    "counter=0\n",
    "xpoints=[]\n",
    "ypoints=[]\n",
    "x2points=[]\n",
    "y2points=[]\n",
    "global predictions\n",
    "predictions = []\n",
    "number1 = []\n",
    "digits=0\n",
    "\n",
    "def paint( event ):\n",
    "    x1, y1 = ( event.x - 4 ), ( event.y - 4 )\n",
    "    x2, y2 = ( event.x + 4 ), ( event.y + 4 )\n",
    "    w.create_oval( x1, y1, x2, y2, fill = 'black' )\n",
    "    xpoints.append(x1)\n",
    "    ypoints.append(y1)\n",
    "    x2points.append(x2) \n",
    "    y2points.append(y2)    \n",
    "    \n",
    "def imagen ():\n",
    "    global counter\n",
    "    global xpoints\n",
    "    global ypoints    \n",
    "    global x2points\n",
    "    global y2points\n",
    "    counter=counter+1\n",
    "\n",
    "    image1 = Image.new(\"RGB\", (canvas_width, canvas_height),black)\n",
    "    draw = ImageDraw.Draw(image1) \n",
    "\n",
    "    elementos=len(xpoints)\n",
    "    \n",
    "    \n",
    "\n",
    "    for p in range (elementos):\n",
    "        x=xpoints[p]\n",
    "        y=ypoints[p]\n",
    "        x2=x2points[p]\n",
    "        y2=y2points[p] \n",
    "        draw.ellipse((x,y,x2,y2),'white')\n",
    "        w.create_oval( x-4, y-4, x2+4, y2+4,outline='gray85', fill = 'gray85' )\n",
    "\n",
    "    #preprocess the drawn digit so as to increase the probability of getting correct recognition.\n",
    "    image1 = image1.resize((28,28))\n",
    "    #convert the image into greyscale \n",
    "    image1 = image1.convert('L')\n",
    "    image1 = np.array(image1)\n",
    "    image1 = image1.reshape(1,28*28)\n",
    "\n",
    "    #feed the digit into the model for prediction\n",
    "    predictions.append(model.predict(image1))\n",
    "    lbl2 = Label(window, text=predictions[counter-1],font=('Arial Bold',20))\n",
    "    lbl2.grid(column=3, row=10)\n",
    "    \n",
    "\n",
    "    xpoints=[]\n",
    "    ypoints=[]\n",
    "    x2points=[]\n",
    "    y2points=[] \n",
    "\n",
    "\n",
    "w = Canvas(window, \n",
    "           width=canvas_width, \n",
    "           height=canvas_height,bg='gray85')\n",
    "w.grid(column=3,row=2)\n",
    "def delete ():\n",
    "    global counter\n",
    "    counter = counter-1\n",
    "    del predictions[counter]\n",
    "    w1 = Canvas(window, \n",
    "           width=200, \n",
    "           height=20,bg='gray95')\n",
    "    w1.grid(column=3,row=10)\n",
    "    \n",
    "        \n",
    "    lbl2 = Label(window, text=answer,font=('Arial Bold',20))\n",
    "    lbl2.grid(column=3, row=5)\n",
    "    predictions=[]\n",
    "    counter=0\n",
    "def reset():\n",
    "    global predictions\n",
    "    global counter\n",
    "    predictions=[]\n",
    "    counter=0\n",
    "    w1 = Canvas(window, \n",
    "           width=200, \n",
    "           height=20,bg='gray95')\n",
    "    w1.grid(column=3,row=10)\n",
    "w1 = Canvas(window, width=200, height=20,bg='gray95')\n",
    "w1.grid(column=3,row=10)\n",
    "\n",
    "w.bind( \"<B1-Motion>\", paint )\n",
    "button = tk.Button(window, text='Identify', width=25, command=imagen)\n",
    "button.grid(column=3,row=3)\n",
    "\n",
    "\n",
    "button5 = tk.Button(window, text='Reset', width=25, command=reset)\n",
    "button5.grid(column=3,row=8)\n",
    "\n",
    "\n",
    "\n",
    "\n",
    "\n",
    "window.mainloop()"
   ]
  },
  {
   "cell_type": "code",
   "execution_count": null,
   "metadata": {},
   "outputs": [],
   "source": []
  }
 ],
 "metadata": {
  "kernelspec": {
   "display_name": "Python 3.10.7 ('env': venv)",
   "language": "python",
   "name": "python3"
  },
  "language_info": {
   "codemirror_mode": {
    "name": "ipython",
    "version": 3
   },
   "file_extension": ".py",
   "mimetype": "text/x-python",
   "name": "python",
   "nbconvert_exporter": "python",
   "pygments_lexer": "ipython3",
   "version": "3.10.7"
  },
  "vscode": {
   "interpreter": {
    "hash": "ff741dea0cb9619808fca06a52ac670e68bebfc68ee9c722609e4e54a1199e6b"
   }
  }
 },
 "nbformat": 4,
 "nbformat_minor": 4
}
